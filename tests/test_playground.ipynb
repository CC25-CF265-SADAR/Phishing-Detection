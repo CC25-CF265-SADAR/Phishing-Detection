{
 "cells": [
  {
   "cell_type": "code",
   "execution_count": 1,
   "id": "cae4fba8",
   "metadata": {},
   "outputs": [
    {
     "name": "stdout",
     "output_type": "stream",
     "text": [
      "Path proyek ditambahkan: d:\\Capstone\\ML - Phishing Detection\\Phishing-Detection\n",
      "2025-06-08 18:59:36 - root - INFO - Konfigurasi logging selesai.\n",
      "2025-06-08 18:59:36 - __main__ - INFO - Logger kustom berhasil di-setup dan didapatkan untuk notebook.\n",
      "2025-06-08 18:59:36 - __main__ - INFO - Fungsi 'extract_features' dari feature_extractor.py berhasil diimpor.\n",
      "2025-06-08 18:59:36 - __main__ - INFO - Setup awal tahap 1 notebook untuk inferensi URL tunggal selesai.\n",
      "2025-06-08 18:59:36 - __main__ - INFO - Path model yang akan digunakan: d:\\Capstone\\ML - Phishing Detection\\Phishing-Detection\\src\\models\\model_checkpoints_recall_focused\\best_recall_model.keras\n",
      "2025-06-08 18:59:36 - __main__ - INFO - Path preprocessor (file objek terpisah): Tidak digunakan\n",
      "2025-06-08 18:59:36 - __main__ - INFO - Setup awal tahap 2 notebook (path) untuk inferensi URL tunggal selesai.\n"
     ]
    }
   ],
   "source": [
    "# Sel 1: Impor Global, Pengaturan Path, Konfigurasi Logger, Impor Fungsi Fitur\n",
    "\n",
    "# Impor Global yang Mungkin Diperlukan di Seluruh Notebook\n",
    "import sys\n",
    "import os\n",
    "from pathlib import Path\n",
    "import pandas as pd\n",
    "import numpy as np\n",
    "import logging # Impor logging standar\n",
    "from typing import Optional, Callable, Any, Union, List, Tuple # Pastikan semua type hints yang akan digunakan ada di sini\n",
    "\n",
    "# --- 1. Pengaturan Path ---\n",
    "# Sesuaikan ini berdasarkan lokasi notebook Anda relatif terhadap root proyek\n",
    "# Jika notebook Anda ada di 'PROJECT_ROOT/notebooks/':\n",
    "project_root_path = os.path.abspath(os.path.join(os.getcwd(), os.pardir))\n",
    "# Jika notebook Anda ada di 'PROJECT_ROOT/src/models/' (seperti models_playground.ipynb Anda):\n",
    "# project_root_path = os.path.abspath(os.path.join(os.getcwd(), os.pardir, os.pardir))\n",
    "\n",
    "if project_root_path not in sys.path:\n",
    "    sys.path.append(project_root_path)\n",
    "    # Pesan ini hanya akan muncul sekali jika path baru ditambahkan\n",
    "    print(f\"Path proyek ditambahkan: {project_root_path}\")\n",
    "\n",
    "\n",
    "# --- 2. Impor dan Konfigurasi Logger ---\n",
    "try:\n",
    "    from src.utils.logger import setup_logging, get_logger\n",
    "    # Panggil setup_logging SEKALI SAJA per sesi kernel notebook.\n",
    "    if not logging.getLogger().hasHandlers(): # Cek jika root logger belum punya handler\n",
    "         setup_logging(log_level=logging.INFO) # Atur level sesuai kebutuhan (misal: INFO atau DEBUG)\n",
    "    logger = get_logger(__name__) # Mendapatkan logger untuk notebook ini\n",
    "    logger.info(\"Logger kustom berhasil di-setup dan didapatkan untuk notebook.\")\n",
    "except ImportError:\n",
    "    # Fallback ke basic config jika modul logger kustom tidak ditemukan\n",
    "    logging.basicConfig(level=logging.INFO, format='%(asctime)s - %(name)s - %(levelname)s - %(message)s')\n",
    "    logger = logging.getLogger(__name__) # Mendapatkan logger default\n",
    "    logger.warning(\"Menggunakan basicConfig untuk logger karena src.utils.logger tidak ditemukan atau error impor.\")\n",
    "except Exception as e:\n",
    "    # Fallback jika ada error lain saat setup logger kustom\n",
    "    logging.basicConfig(level=logging.INFO, format='%(asctime)s - %(name)s - %(levelname)s - %(message)s')\n",
    "    logger = logging.getLogger(__name__)\n",
    "    logger.error(f\"Error saat setup logger kustom: {e}. Menggunakan basicConfig.\", exc_info=True)\n",
    "\n",
    "\n",
    "# --- 3. Impor Fungsi Ekstraksi Fitur dari Modul Anda ---\n",
    "try:\n",
    "    from src.features.feature_extractor import extract_features # Ini adalah nama fungsi dari file Anda\n",
    "    logger.info(\"Fungsi 'extract_features' dari feature_extractor.py berhasil diimpor.\")\n",
    "except ImportError:\n",
    "    logger.critical(\"GAGAL mengimpor 'extract_features' dari src.features.feature_extractor.\")\n",
    "    logger.critical(\"Pastikan sys.path sudah benar, file ada, dan tidak ada error syntax di feature_extractor.py.\")\n",
    "    logger.critical(\"Inferensi TIDAK AKAN BEKERJA DENGAN BENAR tanpa fungsi ekstraksi fitur yang valid.\")\n",
    "    # Definisikan placeholder HANYA agar sisa notebook bisa dijalankan tanpa NameError,\n",
    "    # TAPI ini TIDAK akan menghasilkan prediksi yang benar.\n",
    "    def extract_features(url_string: str) -> Optional[list]:\n",
    "        logger.error(\"!!! MENGGUNAKAN FUNGSI 'extract_features' PLACEHOLDER !!! Hasil prediksi akan SALAH.\")\n",
    "        # GANTI 'num_expected_features' dengan jumlah fitur aktual model Anda\n",
    "        # Berdasarkan feature_extractor.py Anda, tampaknya ada 21 fitur (tanpa fitur WHOIS)\n",
    "        # Jika fitur WHOIS diaktifkan dan valid, jumlahnya bisa lebih banyak.\n",
    "        # Mari kita asumsikan 21 untuk placeholder ini.\n",
    "        num_expected_features = 21 # GANTI INI jika jumlah fitur berbeda!\n",
    "        logger.warning(f\"Placeholder mengembalikan {num_expected_features} fitur acak.\")\n",
    "        return list(np.random.rand(num_expected_features)) if url_string else None\n",
    "except Exception as e:\n",
    "    logger.critical(f\"Error tak terduga saat mengimpor 'extract_features': {e}\", exc_info=True)\n",
    "    def extract_features(url_string: str) -> Optional[list]:\n",
    "        logger.error(f\"!!! MENGGUNAKAN FUNGSI 'extract_features' PLACEHOLDER karena error impor: {e} !!! Hasil prediksi akan SALAH.\")\n",
    "        num_expected_features = 21 # GANTI INI!\n",
    "        logger.warning(f\"Placeholder mengembalikan {num_expected_features} fitur acak.\")\n",
    "        return list(np.random.rand(num_expected_features)) if url_string else None\n",
    "\n",
    "\n",
    "logger.info(\"Setup awal tahap 1 notebook untuk inferensi URL tunggal selesai.\") # Pesan log yang lebih spesifik\n",
    "\n",
    "# --- 4. Konfigurasi Path untuk Model dan Preprocessor ---\n",
    "# Path untuk Model\n",
    "MODEL_DIR_RELATIVE_TO_SRC = Path(\"models\") / \"model_checkpoints_recall_focused\"\n",
    "MODEL_DIR_ABSOLUTE = Path(project_root_path) / \"src\" / MODEL_DIR_RELATIVE_TO_SRC # Model ada di dalam src\n",
    "MODEL_NAME = \"best_recall_model.keras\" # Ganti dengan nama model terbaik Anda\n",
    "SAVED_MODEL_PATH = MODEL_DIR_ABSOLUTE / MODEL_NAME\n",
    "\n",
    "# Path untuk Preprocessor\n",
    "# Karena \"preprocessor\" Anda adalah logika dalam feature_extractor.py (yang sudah diimpor sebagai fungsi),\n",
    "# kita tidak memerlukan path ke file preprocessor terpisah.\n",
    "PREPROCESSOR_PATH = None \n",
    "# Tidak perlu warning di sini karena kita sudah mengklarifikasi bahwa feature_extractor adalah preprocessornya.\n",
    "# Jika Anda *memutuskan* untuk menambahkan scaler terpisah nanti, baru PREPROCESSOR_PATH ini diisi.\n",
    "\n",
    "logger.info(f\"Path model yang akan digunakan: {SAVED_MODEL_PATH}\")\n",
    "logger.info(f\"Path preprocessor (file objek terpisah): {'Tidak digunakan' if PREPROCESSOR_PATH is None else PREPROCESSOR_PATH}\")\n",
    "logger.info(\"Setup awal tahap 2 notebook (path) untuk inferensi URL tunggal selesai.\")"
   ]
  },
  {
   "cell_type": "code",
   "execution_count": 2,
   "id": "ee464ba6",
   "metadata": {},
   "outputs": [
    {
     "name": "stdout",
     "output_type": "stream",
     "text": [
      "2025-06-08 18:59:39 - __main__ - INFO - Mencoba memuat model dari: d:\\Capstone\\ML - Phishing Detection\\Phishing-Detection\\src\\models\\model_checkpoints_recall_focused\\best_recall_model.keras\n",
      "2025-06-08 18:59:40 - __main__ - INFO - Model berhasil dimuat.\n"
     ]
    },
    {
     "data": {
      "text/html": [
       "<pre style=\"white-space:pre;overflow-x:auto;line-height:normal;font-family:Menlo,'DejaVu Sans Mono',consolas,'Courier New',monospace\"><span style=\"font-weight: bold\">Model: \"sequential\"</span>\n",
       "</pre>\n"
      ],
      "text/plain": [
       "\u001b[1mModel: \"sequential\"\u001b[0m\n"
      ]
     },
     "metadata": {},
     "output_type": "display_data"
    },
    {
     "data": {
      "text/html": [
       "<pre style=\"white-space:pre;overflow-x:auto;line-height:normal;font-family:Menlo,'DejaVu Sans Mono',consolas,'Courier New',monospace\">┏━━━━━━━━━━━━━━━━━━━━━━━━━━━━━━━━━┳━━━━━━━━━━━━━━━━━━━━━━━━┳━━━━━━━━━━━━━━━┓\n",
       "┃<span style=\"font-weight: bold\"> Layer (type)                    </span>┃<span style=\"font-weight: bold\"> Output Shape           </span>┃<span style=\"font-weight: bold\">       Param # </span>┃\n",
       "┡━━━━━━━━━━━━━━━━━━━━━━━━━━━━━━━━━╇━━━━━━━━━━━━━━━━━━━━━━━━╇━━━━━━━━━━━━━━━┩\n",
       "│ dense (<span style=\"color: #0087ff; text-decoration-color: #0087ff\">Dense</span>)                   │ (<span style=\"color: #00d7ff; text-decoration-color: #00d7ff\">None</span>, <span style=\"color: #00af00; text-decoration-color: #00af00\">128</span>)            │         <span style=\"color: #00af00; text-decoration-color: #00af00\">2,816</span> │\n",
       "├─────────────────────────────────┼────────────────────────┼───────────────┤\n",
       "│ dropout (<span style=\"color: #0087ff; text-decoration-color: #0087ff\">Dropout</span>)               │ (<span style=\"color: #00d7ff; text-decoration-color: #00d7ff\">None</span>, <span style=\"color: #00af00; text-decoration-color: #00af00\">128</span>)            │             <span style=\"color: #00af00; text-decoration-color: #00af00\">0</span> │\n",
       "├─────────────────────────────────┼────────────────────────┼───────────────┤\n",
       "│ dense_1 (<span style=\"color: #0087ff; text-decoration-color: #0087ff\">Dense</span>)                 │ (<span style=\"color: #00d7ff; text-decoration-color: #00d7ff\">None</span>, <span style=\"color: #00af00; text-decoration-color: #00af00\">64</span>)             │         <span style=\"color: #00af00; text-decoration-color: #00af00\">8,256</span> │\n",
       "├─────────────────────────────────┼────────────────────────┼───────────────┤\n",
       "│ dropout_1 (<span style=\"color: #0087ff; text-decoration-color: #0087ff\">Dropout</span>)             │ (<span style=\"color: #00d7ff; text-decoration-color: #00d7ff\">None</span>, <span style=\"color: #00af00; text-decoration-color: #00af00\">64</span>)             │             <span style=\"color: #00af00; text-decoration-color: #00af00\">0</span> │\n",
       "├─────────────────────────────────┼────────────────────────┼───────────────┤\n",
       "│ dense_2 (<span style=\"color: #0087ff; text-decoration-color: #0087ff\">Dense</span>)                 │ (<span style=\"color: #00d7ff; text-decoration-color: #00d7ff\">None</span>, <span style=\"color: #00af00; text-decoration-color: #00af00\">1</span>)              │            <span style=\"color: #00af00; text-decoration-color: #00af00\">65</span> │\n",
       "└─────────────────────────────────┴────────────────────────┴───────────────┘\n",
       "</pre>\n"
      ],
      "text/plain": [
       "┏━━━━━━━━━━━━━━━━━━━━━━━━━━━━━━━━━┳━━━━━━━━━━━━━━━━━━━━━━━━┳━━━━━━━━━━━━━━━┓\n",
       "┃\u001b[1m \u001b[0m\u001b[1mLayer (type)                   \u001b[0m\u001b[1m \u001b[0m┃\u001b[1m \u001b[0m\u001b[1mOutput Shape          \u001b[0m\u001b[1m \u001b[0m┃\u001b[1m \u001b[0m\u001b[1m      Param #\u001b[0m\u001b[1m \u001b[0m┃\n",
       "┡━━━━━━━━━━━━━━━━━━━━━━━━━━━━━━━━━╇━━━━━━━━━━━━━━━━━━━━━━━━╇━━━━━━━━━━━━━━━┩\n",
       "│ dense (\u001b[38;5;33mDense\u001b[0m)                   │ (\u001b[38;5;45mNone\u001b[0m, \u001b[38;5;34m128\u001b[0m)            │         \u001b[38;5;34m2,816\u001b[0m │\n",
       "├─────────────────────────────────┼────────────────────────┼───────────────┤\n",
       "│ dropout (\u001b[38;5;33mDropout\u001b[0m)               │ (\u001b[38;5;45mNone\u001b[0m, \u001b[38;5;34m128\u001b[0m)            │             \u001b[38;5;34m0\u001b[0m │\n",
       "├─────────────────────────────────┼────────────────────────┼───────────────┤\n",
       "│ dense_1 (\u001b[38;5;33mDense\u001b[0m)                 │ (\u001b[38;5;45mNone\u001b[0m, \u001b[38;5;34m64\u001b[0m)             │         \u001b[38;5;34m8,256\u001b[0m │\n",
       "├─────────────────────────────────┼────────────────────────┼───────────────┤\n",
       "│ dropout_1 (\u001b[38;5;33mDropout\u001b[0m)             │ (\u001b[38;5;45mNone\u001b[0m, \u001b[38;5;34m64\u001b[0m)             │             \u001b[38;5;34m0\u001b[0m │\n",
       "├─────────────────────────────────┼────────────────────────┼───────────────┤\n",
       "│ dense_2 (\u001b[38;5;33mDense\u001b[0m)                 │ (\u001b[38;5;45mNone\u001b[0m, \u001b[38;5;34m1\u001b[0m)              │            \u001b[38;5;34m65\u001b[0m │\n",
       "└─────────────────────────────────┴────────────────────────┴───────────────┘\n"
      ]
     },
     "metadata": {},
     "output_type": "display_data"
    },
    {
     "data": {
      "text/html": [
       "<pre style=\"white-space:pre;overflow-x:auto;line-height:normal;font-family:Menlo,'DejaVu Sans Mono',consolas,'Courier New',monospace\"><span style=\"font-weight: bold\"> Total params: </span><span style=\"color: #00af00; text-decoration-color: #00af00\">33,413</span> (130.52 KB)\n",
       "</pre>\n"
      ],
      "text/plain": [
       "\u001b[1m Total params: \u001b[0m\u001b[38;5;34m33,413\u001b[0m (130.52 KB)\n"
      ]
     },
     "metadata": {},
     "output_type": "display_data"
    },
    {
     "data": {
      "text/html": [
       "<pre style=\"white-space:pre;overflow-x:auto;line-height:normal;font-family:Menlo,'DejaVu Sans Mono',consolas,'Courier New',monospace\"><span style=\"font-weight: bold\"> Trainable params: </span><span style=\"color: #00af00; text-decoration-color: #00af00\">11,137</span> (43.50 KB)\n",
       "</pre>\n"
      ],
      "text/plain": [
       "\u001b[1m Trainable params: \u001b[0m\u001b[38;5;34m11,137\u001b[0m (43.50 KB)\n"
      ]
     },
     "metadata": {},
     "output_type": "display_data"
    },
    {
     "data": {
      "text/html": [
       "<pre style=\"white-space:pre;overflow-x:auto;line-height:normal;font-family:Menlo,'DejaVu Sans Mono',consolas,'Courier New',monospace\"><span style=\"font-weight: bold\"> Non-trainable params: </span><span style=\"color: #00af00; text-decoration-color: #00af00\">0</span> (0.00 B)\n",
       "</pre>\n"
      ],
      "text/plain": [
       "\u001b[1m Non-trainable params: \u001b[0m\u001b[38;5;34m0\u001b[0m (0.00 B)\n"
      ]
     },
     "metadata": {},
     "output_type": "display_data"
    },
    {
     "data": {
      "text/html": [
       "<pre style=\"white-space:pre;overflow-x:auto;line-height:normal;font-family:Menlo,'DejaVu Sans Mono',consolas,'Courier New',monospace\"><span style=\"font-weight: bold\"> Optimizer params: </span><span style=\"color: #00af00; text-decoration-color: #00af00\">22,276</span> (87.02 KB)\n",
       "</pre>\n"
      ],
      "text/plain": [
       "\u001b[1m Optimizer params: \u001b[0m\u001b[38;5;34m22,276\u001b[0m (87.02 KB)\n"
      ]
     },
     "metadata": {},
     "output_type": "display_data"
    },
    {
     "name": "stdout",
     "output_type": "stream",
     "text": [
      "2025-06-08 18:59:40 - __main__ - INFO - Tidak ada path preprocessor yang ditentukan atau preprocessor tidak digunakan.\n"
     ]
    }
   ],
   "source": [
    "import tensorflow as tf\n",
    "from tensorflow import keras\n",
    "from tensorflow.keras import layers\n",
    "\n",
    "# --- Memuat Model ---\n",
    "logger.info(f\"Mencoba memuat model dari: {SAVED_MODEL_PATH}\")\n",
    "loaded_model = None # Inisialisasi sebagai None\n",
    "try:\n",
    "    if SAVED_MODEL_PATH.exists(): # Pastikan file model ada\n",
    "        loaded_model = keras.models.load_model(SAVED_MODEL_PATH)\n",
    "        logger.info(\"Model berhasil dimuat.\")\n",
    "        loaded_model.summary() # Tampilkan ringkasan model untuk verifikasi\n",
    "    else:\n",
    "        logger.error(f\"File model tidak ditemukan di: {SAVED_MODEL_PATH}\")\n",
    "except Exception as e:\n",
    "    logger.error(f\"Gagal memuat model dari {SAVED_MODEL_PATH}: {e}\", exc_info=True)\n",
    "\n",
    "# --- Memuat Preprocessor (Scaler/Encoder) jika digunakan saat training ---\n",
    "preprocessor = None # Inisialisasi sebagai None\n",
    "# Pastikan PREPROCESSOR_PATH sudah didefinisikan di sel sebelumnya (bisa None jika tidak ada)\n",
    "if PREPROCESSOR_PATH and Path(PREPROCESSOR_PATH).exists():\n",
    "    try:\n",
    "        import joblib # Pastikan joblib terinstal jika Anda menggunakannya\n",
    "        preprocessor = joblib.load(PREPROCESSOR_PATH)\n",
    "        logger.info(f\"Preprocessor berhasil dimuat dari {PREPROCESSOR_PATH}.\")\n",
    "    except Exception as e:\n",
    "        logger.error(f\"Gagal memuat preprocessor dari {PREPROCESSOR_PATH}: {e}\", exc_info=True)\n",
    "elif PREPROCESSOR_PATH: # Jika path diset tapi file tidak ada\n",
    "     logger.warning(f\"File preprocessor tidak ditemukan di {PREPROCESSOR_PATH}. Melanjutkan tanpa preprocessor.\")\n",
    "else:\n",
    "    logger.info(\"Tidak ada path preprocessor yang ditentukan atau preprocessor tidak digunakan.\")"
   ]
  },
  {
   "cell_type": "code",
   "execution_count": 3,
   "id": "bfbe7bb2",
   "metadata": {},
   "outputs": [],
   "source": [
    "# Sel 3: Fungsi untuk Inferensi URL Tunggal\n",
    "\n",
    "# (Pastikan 'extract_features' sudah diimpor dari src.features.feature_extractor di Sel 1)\n",
    "# (Pastikan 'logger' sudah diinisialisasi dari Sel 1)\n",
    "# (Pastikan 'Optional', 'Callable', 'Any', 'Tuple' sudah diimpor dari 'typing' di Sel 1)\n",
    "# (Pastikan 'np' dari 'numpy' dan 'keras' dari 'tensorflow' sudah diimpor di Sel 1 atau Sel 2)\n",
    "\n",
    "def predict_url_type(url_string: str, model: keras.Model,\n",
    "                     # 'extract_features' akan digunakan langsung dari impor global\n",
    "                     preprocessor_obj: Optional[Any] = None,\n",
    "                     threshold: float = 0.5) -> Tuple[Optional[str], Optional[float]]:\n",
    "    \"\"\"\n",
    "    Menerima URL, mengekstrak fitur, melakukan pra-pemrosesan (jika ada), membuat prediksi,\n",
    "    dan mengembalikan tipe prediksi beserta probabilitasnya.\n",
    "\n",
    "    Args:\n",
    "        url_string (str): URL yang akan diprediksi.\n",
    "        model (keras.Model): Model Keras yang sudah dilatih dan dimuat.\n",
    "        preprocessor_obj (Optional[Any]): Objek preprocessor (misal, scaler) yang sudah di-fit.\n",
    "                                       Jika None, tidak ada pra-pemrosesan scaler yang diterapkan.\n",
    "        threshold (float): Ambang batas untuk klasifikasi jika output model adalah sigmoid.\n",
    "\n",
    "    Returns:\n",
    "        Tuple[Optional[str], Optional[float]]: (tipe_prediksi, probabilitas_phishing)\n",
    "                                                atau (None, None) jika error.\n",
    "    \"\"\"\n",
    "    if not url_string:\n",
    "        logger.warning(\"Input URL kosong.\")\n",
    "        return None, None\n",
    "\n",
    "    logger.info(f\"Memproses URL: {url_string}\")\n",
    "\n",
    "    # 1. Ekstraksi Fitur menggunakan fungsi yang sudah diimpor dari feature_extractor.py\n",
    "    try:\n",
    "        # 'extract_features' Anda mengembalikan list\n",
    "        list_of_features = extract_features(url_string) # Memanggil fungsi yang diimpor dari Sel 1\n",
    "        if list_of_features is None:\n",
    "            logger.error(f\"Ekstraksi fitur mengembalikan None untuk URL: {url_string}\")\n",
    "            return None, None\n",
    "        \n",
    "        # Konversi ke NumPy array float32\n",
    "        features_1d = np.array(list_of_features, dtype=np.float32)\n",
    "        logger.debug(f\"Fitur (1D) diekstrak: {features_1d.shape} -> {features_1d[:5]}...\")\n",
    "\n",
    "    except Exception as e:\n",
    "        logger.error(f\"Error saat ekstraksi fitur untuk URL '{url_string}': {e}\", exc_info=True)\n",
    "        return None, None\n",
    "    \n",
    "    # Validasi jumlah fitur terhadap input model (PENTING!)\n",
    "    if model.input_shape[1] is not None and features_1d.shape[0] != model.input_shape[1]:\n",
    "        logger.error(f\"Jumlah fitur yang diekstrak ({features_1d.shape[0]}) tidak sesuai dengan input yang diharapkan model ({model.input_shape[1]}).\")\n",
    "        return None, None\n",
    "\n",
    "    # 2. Pra-pemrosesan Fitur (jika ada preprocessor)\n",
    "    # Fitur perlu diubah menjadi 2D array (1 sampel, N fitur)\n",
    "    if features_1d.ndim == 1:\n",
    "        features_2d_for_model = features_1d.reshape(1, -1)\n",
    "    else: \n",
    "        logger.warning(f\"Fitur yang diekstrak sudah {features_1d.ndim}D. Diharapkan 1D sebelum reshape.\")\n",
    "        features_2d_for_model = features_1d # Asumsikan sudah (1, N_fitur) jika bukan 1D\n",
    "\n",
    "    if preprocessor_obj:\n",
    "        try:\n",
    "            logger.debug(f\"Menerapkan preprocessor pada fitur shape: {features_2d_for_model.shape}\")\n",
    "            features_processed = preprocessor_obj.transform(features_2d_for_model) # transform() biasanya mengharapkan 2D\n",
    "            logger.debug(\"Preprocessor berhasil diterapkan.\")\n",
    "        except Exception as e:\n",
    "            logger.error(f\"Error saat menerapkan preprocessor: {e}\", exc_info=True)\n",
    "            return None, None\n",
    "    else:\n",
    "        features_processed = features_2d_for_model # Gunakan fitur apa adanya jika tidak ada preprocessor\n",
    "\n",
    "    logger.debug(f\"Fitur setelah pra-pemrosesan (siap untuk model): {features_processed.shape} -> {features_processed[0, :5]}...\")\n",
    "\n",
    "    # 3. Membuat Prediksi\n",
    "    try:\n",
    "        prediction_proba = model.predict(features_processed) # Input ke model harus 2D\n",
    "        logger.debug(f\"Probabilitas mentah dari model: {prediction_proba}\")\n",
    "\n",
    "        # Interpretasi output model berdasarkan arsitektur output layer\n",
    "        num_output_neurons = model.layers[-1].units\n",
    "        activation_output = model.layers[-1].activation.__name__ # Mendapatkan nama aktivasi\n",
    "\n",
    "        if num_output_neurons == 1 and activation_output == 'sigmoid':\n",
    "            prob_phishing = prediction_proba[0, 0]\n",
    "            predicted_label_int = 1 if prob_phishing > threshold else 0\n",
    "        elif num_output_neurons > 1 and activation_output == 'softmax': # Misal 2 neuron untuk kelas 0 dan 1\n",
    "            predicted_label_int = np.argmax(prediction_proba, axis=1)[0]\n",
    "            prob_phishing = prediction_proba[0, 1] # Asumsi kelas 1 (phishing) adalah indeks 1\n",
    "            # Jika kelas 0 adalah phishing, gunakan prediction_proba[0, 0]\n",
    "        else:\n",
    "            logger.error(f\"Struktur output layer model tidak dikenali (neurons: {num_output_neurons}, activation: {activation_output}). Tidak bisa interpretasi prediksi.\")\n",
    "            return None, None\n",
    "        \n",
    "        # TODO: Sesuaikan label mapping ini dengan definisi kelas Anda\n",
    "        label_mapping = {0: 'Aman', 1: 'Phishing'} \n",
    "        predicted_type = label_mapping.get(predicted_label_int, f\"Label Int Tidak Diketahui: {predicted_label_int}\")\n",
    "        \n",
    "        logger.info(f\"Prediksi untuk '{url_string}': Tipe='{predicted_type}', Prob_Phishing={prob_phishing:.4f} (Threshold: {threshold if num_output_neurons == 1 else 'argmax'})\")\n",
    "        return predicted_type, prob_phishing\n",
    "\n",
    "    except Exception as e:\n",
    "        logger.error(f\"Error saat membuat prediksi untuk URL '{url_string}': {e}\", exc_info=True)\n",
    "        return None, None"
   ]
  },
  {
   "cell_type": "code",
   "execution_count": 5,
   "id": "b32cfe55",
   "metadata": {},
   "outputs": [
    {
     "name": "stdout",
     "output_type": "stream",
     "text": [
      "\n",
      "--- Mode Inferensi URL Tunggal ---\n",
      "Ketik 'exit' atau 'quit' untuk keluar.\n",
      "2025-06-08 19:01:03 - __main__ - INFO - Memproses URL: https://bit.ly/skripsirheza\n",
      "2025-06-08 19:01:03 - FeatureExtractor - INFO - Memulai ekstraksi fitur untuk URL: https://bit.ly/skripsirheza\n",
      "2025-06-08 19:01:05 - FeatureExtractor - INFO - Selesai ekstraksi fitur untuk URL: https://bit.ly/skripsirheza. Total fitur: 21\n",
      "\u001b[1m1/1\u001b[0m \u001b[32m━━━━━━━━━━━━━━━━━━━━\u001b[0m\u001b[37m\u001b[0m \u001b[1m0s\u001b[0m 16ms/step\n",
      "2025-06-08 19:01:06 - __main__ - INFO - Prediksi untuk 'https://bit.ly/skripsirheza': Tipe='Aman', Prob_Phishing=0.0757 (Threshold: 0.5)\n",
      "--> Hasil Prediksi untuk 'https://bit.ly/skripsirheza':\n",
      "    Tipe Terdeteksi: Aman\n",
      "    Probabilitas (Phishing): 0.0757\n",
      "2025-06-08 19:01:10 - __main__ - INFO - Keluar dari mode inferensi.\n"
     ]
    }
   ],
   "source": [
    "# Sel 4: Loop Interaktif untuk Input Pengguna\n",
    "\n",
    "if 'loaded_model' in locals() and loaded_model: # Pastikan model sudah dimuat dari Sel 2\n",
    "    print(\"\\n--- Mode Inferensi URL Tunggal ---\")\n",
    "    print(\"Ketik 'exit' atau 'quit' untuk keluar.\")\n",
    "    while True:\n",
    "        user_url = input(\"\\nMasukkan URL yang ingin Anda periksa: \").strip()\n",
    "        if user_url.lower() in ['exit', 'quit']:\n",
    "            logger.info(\"Keluar dari mode inferensi.\")\n",
    "            break\n",
    "        if not user_url:\n",
    "            print(\"URL tidak boleh kosong. Silakan coba lagi.\")\n",
    "            continue\n",
    "\n",
    "        # Panggil fungsi prediksi dari Sel 3\n",
    "        # 'extract_features' sudah diimpor secara global di Sel 1\n",
    "        # 'preprocessor' adalah objek yang dimuat di Sel 2 (bisa None)\n",
    "        # 'loaded_model' adalah model yang dimuat di Sel 2\n",
    "        \n",
    "        # TODO: Tentukan threshold yang optimal dari eksperimen Anda jika model outputnya sigmoid\n",
    "        prediction_threshold = 0.5 \n",
    "\n",
    "        predicted_type, probability = predict_url_type(\n",
    "            user_url,\n",
    "            loaded_model, \n",
    "            preprocessor_obj=preprocessor, # Akan bernilai None jika tidak ada preprocessor dimuat\n",
    "            threshold=prediction_threshold \n",
    "        )\n",
    "\n",
    "        if predicted_type is not None:\n",
    "            print(f\"--> Hasil Prediksi untuk '{user_url}':\")\n",
    "            print(f\"    Tipe Terdeteksi: {predicted_type}\")\n",
    "            if probability is not None:\n",
    "                print(f\"    Probabilitas (Phishing): {probability:.4f}\")\n",
    "        else:\n",
    "            print(f\"--> Tidak dapat membuat prediksi untuk '{user_url}'. Periksa log untuk detail.\")\n",
    "else:\n",
    "    print(\"Model belum dimuat (variabel 'loaded_model' tidak ditemukan atau None). Jalankan Sel 2 terlebih dahulu.\")\n",
    "    logger.error(\"Inferensi tidak bisa dijalankan karena model belum dimuat.\")"
   ]
  },
  {
   "cell_type": "code",
   "execution_count": 18,
   "id": "2b5eb4ab",
   "metadata": {},
   "outputs": [
    {
     "data": {
      "text/plain": [
       "21"
      ]
     },
     "execution_count": 18,
     "metadata": {},
     "output_type": "execute_result"
    }
   ],
   "source": [
    "len(feature_columns)"
   ]
  },
  {
   "cell_type": "code",
   "execution_count": 14,
   "id": "60a6867a",
   "metadata": {},
   "outputs": [
    {
     "name": "stdout",
     "output_type": "stream",
     "text": [
      "2025-06-07 14:11:16 - FeatureExtractor - INFO - Memulai ekstraksi fitur untuk URL: bit.ly/ddsui1447 \n",
      "2025-06-07 14:11:18 - FeatureExtractor - ERROR - HTTP error saat mengambil URL 'http://bit.ly/ddsui1447 ': 401 Client Error: Unauthorized for url: https://docs.google.com/forms/d/e/1FAIpQLSf_KbK7_hkPIoqqliGk079UfFMW99--pXps4f0e4CBoCrykJw/viewform?usp=send_form\n",
      "2025-06-07 14:11:18 - FeatureExtractor - INFO - Selesai ekstraksi fitur untuk URL: http://bit.ly/ddsui1447 . Total fitur: 21\n",
      "Fitur yang diekstrak untuk 'bit.ly/ddsui1447 ': [1, 24, -1, 1, 1, 1, -1, -1, 1, -1.0, -1.0, -1.0, -1, -1, 1, 2, -1, -1, -1, -1, 1]\n",
      "DataFrame Fitur:\n",
      "   feature_0  feature_1  feature_2  feature_3  feature_4  feature_5  \\\n",
      "0          1         24         -1          1          1          1   \n",
      "\n",
      "   feature_6  feature_7  feature_8  feature_9  ...  feature_11  feature_12  \\\n",
      "0         -1         -1          1       -1.0  ...        -1.0          -1   \n",
      "\n",
      "   feature_13  feature_14  feature_15  feature_16  feature_17  feature_18  \\\n",
      "0          -1           1           2          -1          -1          -1   \n",
      "\n",
      "   feature_19  feature_20  \n",
      "0          -1           1  \n",
      "\n",
      "[1 rows x 21 columns]\n"
     ]
    }
   ],
   "source": [
    "from src.features.feature_extractor import extract_features\n",
    "\n",
    "# Ekstraksi fitur contoh untuk verifikasi\n",
    "example_url = \"bit.ly/ddsui1447 \"\n",
    "features = extract_features(example_url)\n",
    "if features is not None:\n",
    "    print(f\"Fitur yang diekstrak untuk '{example_url}': {features}\")\n",
    "# Jika Anda ingin menguji fungsi ekstraksi fitur secara langsung\n",
    "else:\n",
    "    print(f\"Gagal mengekstrak fitur untuk '{example_url}'. Periksa log untuk detail.\")\n",
    "# Buat dataframe untuk melihat fitur\n",
    "if features is not None:\n",
    "    features_df = pd.DataFrame([features], columns=[f\"feature_{i}\" for i in range(len(features))])\n",
    "    print(\"DataFrame Fitur:\")\n",
    "    print(features_df.head())\n",
    "else:\n",
    "    print(\"Tidak ada fitur yang diekstrak, tidak bisa membuat DataFrame.\")\n",
    "# Beri nama pada DataFrame untuk kemudahan dengan feature_columns"
   ]
  },
  {
   "cell_type": "code",
   "execution_count": 27,
   "id": "0a70eac7",
   "metadata": {},
   "outputs": [
    {
     "name": "stdout",
     "output_type": "stream",
     "text": [
      "DataFrame Fitur dengan nama kolom:\n"
     ]
    },
    {
     "data": {
      "application/vnd.microsoft.datawrangler.viewer.v0+json": {
       "columns": [
        {
         "name": "index",
         "rawType": "int64",
         "type": "integer"
        },
        {
         "name": "IP_Address",
         "rawType": "int64",
         "type": "integer"
        },
        {
         "name": "URL_Length",
         "rawType": "int64",
         "type": "integer"
        },
        {
         "name": "URL_Shortening",
         "rawType": "int64",
         "type": "integer"
        },
        {
         "name": "Double_Slash_Redirect_After_HTTPS",
         "rawType": "int64",
         "type": "integer"
        },
        {
         "name": "Hyphen_in_Domain_Name",
         "rawType": "int64",
         "type": "integer"
        },
        {
         "name": "Presence_of_Subdomain",
         "rawType": "int64",
         "type": "integer"
        },
        {
         "name": "Uses_HTTPS_Protocol",
         "rawType": "int64",
         "type": "integer"
        },
        {
         "name": "Favicon_Source_Consistency",
         "rawType": "int64",
         "type": "integer"
        },
        {
         "name": "Custom_Port_Usage",
         "rawType": "int64",
         "type": "integer"
        },
        {
         "name": "External_Resource_Ratio",
         "rawType": "float64",
         "type": "float"
        },
        {
         "name": "External_Links_Ratio",
         "rawType": "float64",
         "type": "float"
        },
        {
         "name": "External_CSS_and_JS_Resources",
         "rawType": "float64",
         "type": "float"
        },
        {
         "name": "External_Form_Submission",
         "rawType": "int64",
         "type": "integer"
        },
        {
         "name": "Form_Submits_to_Email_Address",
         "rawType": "int64",
         "type": "integer"
        },
        {
         "name": "HTTP_Response_Status_Content",
         "rawType": "int64",
         "type": "integer"
        },
        {
         "name": "Number_of_Redirects",
         "rawType": "int64",
         "type": "integer"
        },
        {
         "name": "Mouseover_Link_Manipulation",
         "rawType": "int64",
         "type": "integer"
        },
        {
         "name": "Right_Click_Disabled",
         "rawType": "int64",
         "type": "integer"
        },
        {
         "name": "Popup_Window_Usage",
         "rawType": "int64",
         "type": "integer"
        },
        {
         "name": "Iframe_Usage",
         "rawType": "int64",
         "type": "integer"
        },
        {
         "name": "URL_Blacklist_Status",
         "rawType": "int64",
         "type": "integer"
        }
       ],
       "ref": "e9a0b943-b814-4d1d-b5ae-4d12e9b6d6fb",
       "rows": [
        [
         "0",
         "1",
         "24",
         "-1",
         "1",
         "1",
         "1",
         "-1",
         "-1",
         "1",
         "-1.0",
         "-1.0",
         "-1.0",
         "-1",
         "-1",
         "1",
         "2",
         "-1",
         "-1",
         "-1",
         "-1",
         "1"
        ]
       ],
       "shape": {
        "columns": 21,
        "rows": 1
       }
      },
      "text/html": [
       "<div>\n",
       "<style scoped>\n",
       "    .dataframe tbody tr th:only-of-type {\n",
       "        vertical-align: middle;\n",
       "    }\n",
       "\n",
       "    .dataframe tbody tr th {\n",
       "        vertical-align: top;\n",
       "    }\n",
       "\n",
       "    .dataframe thead th {\n",
       "        text-align: right;\n",
       "    }\n",
       "</style>\n",
       "<table border=\"1\" class=\"dataframe\">\n",
       "  <thead>\n",
       "    <tr style=\"text-align: right;\">\n",
       "      <th></th>\n",
       "      <th>IP_Address</th>\n",
       "      <th>URL_Length</th>\n",
       "      <th>URL_Shortening</th>\n",
       "      <th>Double_Slash_Redirect_After_HTTPS</th>\n",
       "      <th>Hyphen_in_Domain_Name</th>\n",
       "      <th>Presence_of_Subdomain</th>\n",
       "      <th>Uses_HTTPS_Protocol</th>\n",
       "      <th>Favicon_Source_Consistency</th>\n",
       "      <th>Custom_Port_Usage</th>\n",
       "      <th>External_Resource_Ratio</th>\n",
       "      <th>...</th>\n",
       "      <th>External_CSS_and_JS_Resources</th>\n",
       "      <th>External_Form_Submission</th>\n",
       "      <th>Form_Submits_to_Email_Address</th>\n",
       "      <th>HTTP_Response_Status_Content</th>\n",
       "      <th>Number_of_Redirects</th>\n",
       "      <th>Mouseover_Link_Manipulation</th>\n",
       "      <th>Right_Click_Disabled</th>\n",
       "      <th>Popup_Window_Usage</th>\n",
       "      <th>Iframe_Usage</th>\n",
       "      <th>URL_Blacklist_Status</th>\n",
       "    </tr>\n",
       "  </thead>\n",
       "  <tbody>\n",
       "    <tr>\n",
       "      <th>0</th>\n",
       "      <td>1</td>\n",
       "      <td>24</td>\n",
       "      <td>-1</td>\n",
       "      <td>1</td>\n",
       "      <td>1</td>\n",
       "      <td>1</td>\n",
       "      <td>-1</td>\n",
       "      <td>-1</td>\n",
       "      <td>1</td>\n",
       "      <td>-1.0</td>\n",
       "      <td>...</td>\n",
       "      <td>-1.0</td>\n",
       "      <td>-1</td>\n",
       "      <td>-1</td>\n",
       "      <td>1</td>\n",
       "      <td>2</td>\n",
       "      <td>-1</td>\n",
       "      <td>-1</td>\n",
       "      <td>-1</td>\n",
       "      <td>-1</td>\n",
       "      <td>1</td>\n",
       "    </tr>\n",
       "  </tbody>\n",
       "</table>\n",
       "<p>1 rows × 21 columns</p>\n",
       "</div>"
      ],
      "text/plain": [
       "   IP_Address  URL_Length  URL_Shortening  Double_Slash_Redirect_After_HTTPS  \\\n",
       "0           1          24              -1                                  1   \n",
       "\n",
       "   Hyphen_in_Domain_Name  Presence_of_Subdomain  Uses_HTTPS_Protocol  \\\n",
       "0                      1                      1                   -1   \n",
       "\n",
       "   Favicon_Source_Consistency  Custom_Port_Usage  External_Resource_Ratio  \\\n",
       "0                          -1                  1                     -1.0   \n",
       "\n",
       "   ...  External_CSS_and_JS_Resources  External_Form_Submission  \\\n",
       "0  ...                           -1.0                        -1   \n",
       "\n",
       "   Form_Submits_to_Email_Address  HTTP_Response_Status_Content  \\\n",
       "0                             -1                             1   \n",
       "\n",
       "   Number_of_Redirects  Mouseover_Link_Manipulation  Right_Click_Disabled  \\\n",
       "0                    2                           -1                    -1   \n",
       "\n",
       "   Popup_Window_Usage  Iframe_Usage  URL_Blacklist_Status  \n",
       "0                  -1            -1                     1  \n",
       "\n",
       "[1 rows x 21 columns]"
      ]
     },
     "execution_count": 27,
     "metadata": {},
     "output_type": "execute_result"
    }
   ],
   "source": [
    "# beri nama features_df dengan list feature_columns dengan asumsi fitur sudah sesuai\n",
    "features_df = pd.DataFrame([features], columns=feature_columns)\n",
    "print(\"DataFrame Fitur dengan nama kolom:\") \n",
    "features_df"
   ]
  }
 ],
 "metadata": {
  "kernelspec": {
   "display_name": "Python 3",
   "language": "python",
   "name": "python3"
  },
  "language_info": {
   "codemirror_mode": {
    "name": "ipython",
    "version": 3
   },
   "file_extension": ".py",
   "mimetype": "text/x-python",
   "name": "python",
   "nbconvert_exporter": "python",
   "pygments_lexer": "ipython3",
   "version": "3.12.4"
  }
 },
 "nbformat": 4,
 "nbformat_minor": 5
}
