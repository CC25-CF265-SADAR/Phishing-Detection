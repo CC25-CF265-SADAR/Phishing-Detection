{
 "cells": [
  {
   "cell_type": "markdown",
   "id": "9b19a665",
   "metadata": {},
   "source": [
    "# Inisialisasi dan Pengaturan Lingkungan\n",
    "\n",
    "Sel ini berfungsi sebagai fondasi dari keseluruhan notebook, memastikan semua dependensi dan konfigurasi siap sebelum proses inti dijalankan."
   ]
  },
  {
   "cell_type": "code",
   "execution_count": null,
   "id": "32ed3e09",
   "metadata": {},
   "outputs": [
    {
     "name": "stdout",
     "output_type": "stream",
     "text": [
      "Path proyek ditambahkan: d:\\Capstone\\ML - Phishing Detection\n",
      "2025-06-12 19:48:26 - root - INFO - Konfigurasi logging selesai.\n",
      "2025-06-12 19:48:26 - __main__ - INFO - Logger kustom berhasil di-setup dan didapatkan untuk notebook.\n",
      "2025-06-12 19:48:26 - __main__ - INFO - Fungsi 'extract_features' dari feature_extractor.py berhasil diimpor.\n",
      "2025-06-12 19:48:26 - __main__ - INFO - Setup awal tahap 1 notebook untuk inferensi URL tunggal selesai.\n",
      "2025-06-12 19:48:26 - __main__ - INFO - Path model yang akan digunakan: d:\\Capstone\\ML - Phishing Detection\\models_trained\\best_recall_model_url shortener case.h5\n",
      "2025-06-12 19:48:26 - __main__ - INFO - Setup awal tahap 2 notebook (path) untuk inferensi URL tunggal selesai.\n"
     ]
    }
   ],
   "source": [
    "# Impor Global, Pengaturan Path, Konfigurasi Logger, Impor Fungsi Fitur\n",
    "\n",
    "# Impor Global yang Mungkin Diperlukan di Seluruh Notebook\n",
    "import sys\n",
    "import os\n",
    "from pathlib import Path\n",
    "import pandas as pd\n",
    "import numpy as np\n",
    "import logging # Impor logging standar\n",
    "from typing import Optional, Callable, Any, Union, List, Tuple # Pastikan semua type hints yang akan digunakan ada di sini\n",
    "\n",
    "# --- 1. Pengaturan Path ---\n",
    "project_root_path = os.path.abspath(os.path.join(os.getcwd(), os.pardir))\n",
    "\n",
    "\n",
    "if project_root_path not in sys.path:\n",
    "    sys.path.append(project_root_path)\n",
    "    # Pesan ini hanya akan muncul sekali jika path baru ditambahkan\n",
    "    print(f\"Path proyek ditambahkan: {project_root_path}\")\n",
    "\n",
    "\n",
    "# --- 2. Impor dan Konfigurasi Logger ---\n",
    "try:\n",
    "    from src.utils.logger import setup_logging, get_logger\n",
    "    # Panggil setup_logging SEKALI SAJA per sesi kernel notebook.\n",
    "    if not logging.getLogger().hasHandlers(): # Cek jika root logger belum punya handler\n",
    "         setup_logging(log_level=logging.INFO) # Atur level sesuai kebutuhan (misal: INFO atau DEBUG)\n",
    "    logger = get_logger(__name__) # Mendapatkan logger untuk notebook ini\n",
    "    logger.info(\"Logger kustom berhasil di-setup dan didapatkan untuk notebook.\")\n",
    "except ImportError:\n",
    "    # Fallback ke basic config jika modul logger kustom tidak ditemukan\n",
    "    logging.basicConfig(level=logging.INFO, format='%(asctime)s - %(name)s - %(levelname)s - %(message)s')\n",
    "    logger = logging.getLogger(__name__) # Mendapatkan logger default\n",
    "    logger.warning(\"Menggunakan basicConfig untuk logger karena src.utils.logger tidak ditemukan atau error impor.\")\n",
    "except Exception as e:\n",
    "    # Fallback jika ada error lain saat setup logger kustom\n",
    "    logging.basicConfig(level=logging.INFO, format='%(asctime)s - %(name)s - %(levelname)s - %(message)s')\n",
    "    logger = logging.getLogger(__name__)\n",
    "    logger.error(f\"Error saat setup logger kustom: {e}. Menggunakan basicConfig.\", exc_info=True)\n",
    "\n",
    "\n",
    "# --- 3. Impor Fungsi Ekstraksi Fitur dari Modul ---\n",
    "try:\n",
    "    from src.features.feature_extractor_shortener import extract_features # Ini adalah nama fungsi dari file\n",
    "    logger.info(\"Fungsi 'extract_features' dari feature_extractor.py berhasil diimpor.\")\n",
    "except ImportError:\n",
    "    logger.critical(\"GAGAL mengimpor 'extract_features' dari src.features.feature_extractor.\")\n",
    "    logger.critical(\"Pastikan sys.path sudah benar, file ada, dan tidak ada error syntax di feature_extractor.py.\")\n",
    "    logger.critical(\"Inferensi TIDAK AKAN BEKERJA DENGAN BENAR tanpa fungsi ekstraksi fitur yang valid.\")\n",
    "    def extract_features(url_string: str) -> Optional[list]:\n",
    "        logger.error(\"!!! MENGGUNAKAN FUNGSI 'extract_features' PLACEHOLDER !!! Hasil prediksi akan SALAH.\")\n",
    "\n",
    "        num_expected_features = 21 \n",
    "        logger.warning(f\"Placeholder mengembalikan {num_expected_features} fitur acak.\")\n",
    "        return list(np.random.rand(num_expected_features)) if url_string else None\n",
    "except Exception as e:\n",
    "    logger.critical(f\"Error tak terduga saat mengimpor 'extract_features': {e}\", exc_info=True)\n",
    "    def extract_features(url_string: str) -> Optional[list]:\n",
    "        logger.error(f\"!!! MENGGUNAKAN FUNGSI 'extract_features' PLACEHOLDER karena error impor: {e} !!! Hasil prediksi akan SALAH.\")\n",
    "        num_expected_features = 21 \n",
    "        logger.warning(f\"Placeholder mengembalikan {num_expected_features} fitur acak.\")\n",
    "        return list(np.random.rand(num_expected_features)) if url_string else None\n",
    "\n",
    "\n",
    "logger.info(\"Setup awal tahap 1 notebook untuk inferensi URL tunggal selesai.\") # Pesan log yang lebih spesifik\n",
    "\n",
    "# --- 4. Konfigurasi Path untuk Model dan Preprocessor ---\n",
    "# Path untuk Model\n",
    "MODEL_DIR_RELATIVE_TO_SRC = Path(\"models_trained\")\n",
    "MODEL_NAME = \"best_recall_model_url shortener case.h5\"\n",
    "\n",
    "MODEL_DIR_ABSOLUTE = Path(project_root_path) / MODEL_DIR_RELATIVE_TO_SRC # Model ada di dalam src\n",
    "SAVED_MODEL_PATH = MODEL_DIR_ABSOLUTE / MODEL_NAME\n",
    "\n",
    "\n",
    "logger.info(f\"Path model yang akan digunakan: {SAVED_MODEL_PATH}\")\n",
    "logger.info(\"Setup awal tahap 2 notebook (path) untuk inferensi URL tunggal selesai.\")"
   ]
  },
  {
   "cell_type": "markdown",
   "id": "ef7cbd1a",
   "metadata": {},
   "source": [
    "# Pemuatan Model Machine Learning\n",
    "Sel ini berfokus pada satu tugas krusial: memuat model Keras yang telah dilatih dari file."
   ]
  },
  {
   "cell_type": "code",
   "execution_count": 2,
   "id": "e0bc29f6",
   "metadata": {},
   "outputs": [
    {
     "name": "stdout",
     "output_type": "stream",
     "text": [
      "2025-06-12 19:48:30 - __main__ - INFO - Mencoba memuat model dari: d:\\Capstone\\ML - Phishing Detection\\models_trained\\best_recall_model_url shortener case.h5\n",
      "2025-06-12 19:48:30 - absl - WARNING - Compiled the loaded model, but the compiled metrics have yet to be built. `model.compile_metrics` will be empty until you train or evaluate the model.\n",
      "2025-06-12 19:48:30 - __main__ - INFO - Model berhasil dimuat.\n"
     ]
    },
    {
     "data": {
      "text/html": [
       "<pre style=\"white-space:pre;overflow-x:auto;line-height:normal;font-family:Menlo,'DejaVu Sans Mono',consolas,'Courier New',monospace\"><span style=\"font-weight: bold\">Model: \"sequential\"</span>\n",
       "</pre>\n"
      ],
      "text/plain": [
       "\u001b[1mModel: \"sequential\"\u001b[0m\n"
      ]
     },
     "metadata": {},
     "output_type": "display_data"
    },
    {
     "data": {
      "text/html": [
       "<pre style=\"white-space:pre;overflow-x:auto;line-height:normal;font-family:Menlo,'DejaVu Sans Mono',consolas,'Courier New',monospace\">┏━━━━━━━━━━━━━━━━━━━━━━━━━━━━━━━━━┳━━━━━━━━━━━━━━━━━━━━━━━━┳━━━━━━━━━━━━━━━┓\n",
       "┃<span style=\"font-weight: bold\"> Layer (type)                    </span>┃<span style=\"font-weight: bold\"> Output Shape           </span>┃<span style=\"font-weight: bold\">       Param # </span>┃\n",
       "┡━━━━━━━━━━━━━━━━━━━━━━━━━━━━━━━━━╇━━━━━━━━━━━━━━━━━━━━━━━━╇━━━━━━━━━━━━━━━┩\n",
       "│ dense (<span style=\"color: #0087ff; text-decoration-color: #0087ff\">Dense</span>)                   │ (<span style=\"color: #00d7ff; text-decoration-color: #00d7ff\">None</span>, <span style=\"color: #00af00; text-decoration-color: #00af00\">128</span>)            │         <span style=\"color: #00af00; text-decoration-color: #00af00\">2,816</span> │\n",
       "├─────────────────────────────────┼────────────────────────┼───────────────┤\n",
       "│ dropout (<span style=\"color: #0087ff; text-decoration-color: #0087ff\">Dropout</span>)               │ (<span style=\"color: #00d7ff; text-decoration-color: #00d7ff\">None</span>, <span style=\"color: #00af00; text-decoration-color: #00af00\">128</span>)            │             <span style=\"color: #00af00; text-decoration-color: #00af00\">0</span> │\n",
       "├─────────────────────────────────┼────────────────────────┼───────────────┤\n",
       "│ dense_1 (<span style=\"color: #0087ff; text-decoration-color: #0087ff\">Dense</span>)                 │ (<span style=\"color: #00d7ff; text-decoration-color: #00d7ff\">None</span>, <span style=\"color: #00af00; text-decoration-color: #00af00\">64</span>)             │         <span style=\"color: #00af00; text-decoration-color: #00af00\">8,256</span> │\n",
       "├─────────────────────────────────┼────────────────────────┼───────────────┤\n",
       "│ dropout_1 (<span style=\"color: #0087ff; text-decoration-color: #0087ff\">Dropout</span>)             │ (<span style=\"color: #00d7ff; text-decoration-color: #00d7ff\">None</span>, <span style=\"color: #00af00; text-decoration-color: #00af00\">64</span>)             │             <span style=\"color: #00af00; text-decoration-color: #00af00\">0</span> │\n",
       "├─────────────────────────────────┼────────────────────────┼───────────────┤\n",
       "│ dense_2 (<span style=\"color: #0087ff; text-decoration-color: #0087ff\">Dense</span>)                 │ (<span style=\"color: #00d7ff; text-decoration-color: #00d7ff\">None</span>, <span style=\"color: #00af00; text-decoration-color: #00af00\">1</span>)              │            <span style=\"color: #00af00; text-decoration-color: #00af00\">65</span> │\n",
       "└─────────────────────────────────┴────────────────────────┴───────────────┘\n",
       "</pre>\n"
      ],
      "text/plain": [
       "┏━━━━━━━━━━━━━━━━━━━━━━━━━━━━━━━━━┳━━━━━━━━━━━━━━━━━━━━━━━━┳━━━━━━━━━━━━━━━┓\n",
       "┃\u001b[1m \u001b[0m\u001b[1mLayer (type)                   \u001b[0m\u001b[1m \u001b[0m┃\u001b[1m \u001b[0m\u001b[1mOutput Shape          \u001b[0m\u001b[1m \u001b[0m┃\u001b[1m \u001b[0m\u001b[1m      Param #\u001b[0m\u001b[1m \u001b[0m┃\n",
       "┡━━━━━━━━━━━━━━━━━━━━━━━━━━━━━━━━━╇━━━━━━━━━━━━━━━━━━━━━━━━╇━━━━━━━━━━━━━━━┩\n",
       "│ dense (\u001b[38;5;33mDense\u001b[0m)                   │ (\u001b[38;5;45mNone\u001b[0m, \u001b[38;5;34m128\u001b[0m)            │         \u001b[38;5;34m2,816\u001b[0m │\n",
       "├─────────────────────────────────┼────────────────────────┼───────────────┤\n",
       "│ dropout (\u001b[38;5;33mDropout\u001b[0m)               │ (\u001b[38;5;45mNone\u001b[0m, \u001b[38;5;34m128\u001b[0m)            │             \u001b[38;5;34m0\u001b[0m │\n",
       "├─────────────────────────────────┼────────────────────────┼───────────────┤\n",
       "│ dense_1 (\u001b[38;5;33mDense\u001b[0m)                 │ (\u001b[38;5;45mNone\u001b[0m, \u001b[38;5;34m64\u001b[0m)             │         \u001b[38;5;34m8,256\u001b[0m │\n",
       "├─────────────────────────────────┼────────────────────────┼───────────────┤\n",
       "│ dropout_1 (\u001b[38;5;33mDropout\u001b[0m)             │ (\u001b[38;5;45mNone\u001b[0m, \u001b[38;5;34m64\u001b[0m)             │             \u001b[38;5;34m0\u001b[0m │\n",
       "├─────────────────────────────────┼────────────────────────┼───────────────┤\n",
       "│ dense_2 (\u001b[38;5;33mDense\u001b[0m)                 │ (\u001b[38;5;45mNone\u001b[0m, \u001b[38;5;34m1\u001b[0m)              │            \u001b[38;5;34m65\u001b[0m │\n",
       "└─────────────────────────────────┴────────────────────────┴───────────────┘\n"
      ]
     },
     "metadata": {},
     "output_type": "display_data"
    },
    {
     "data": {
      "text/html": [
       "<pre style=\"white-space:pre;overflow-x:auto;line-height:normal;font-family:Menlo,'DejaVu Sans Mono',consolas,'Courier New',monospace\"><span style=\"font-weight: bold\"> Total params: </span><span style=\"color: #00af00; text-decoration-color: #00af00\">11,139</span> (43.52 KB)\n",
       "</pre>\n"
      ],
      "text/plain": [
       "\u001b[1m Total params: \u001b[0m\u001b[38;5;34m11,139\u001b[0m (43.52 KB)\n"
      ]
     },
     "metadata": {},
     "output_type": "display_data"
    },
    {
     "data": {
      "text/html": [
       "<pre style=\"white-space:pre;overflow-x:auto;line-height:normal;font-family:Menlo,'DejaVu Sans Mono',consolas,'Courier New',monospace\"><span style=\"font-weight: bold\"> Trainable params: </span><span style=\"color: #00af00; text-decoration-color: #00af00\">11,137</span> (43.50 KB)\n",
       "</pre>\n"
      ],
      "text/plain": [
       "\u001b[1m Trainable params: \u001b[0m\u001b[38;5;34m11,137\u001b[0m (43.50 KB)\n"
      ]
     },
     "metadata": {},
     "output_type": "display_data"
    },
    {
     "data": {
      "text/html": [
       "<pre style=\"white-space:pre;overflow-x:auto;line-height:normal;font-family:Menlo,'DejaVu Sans Mono',consolas,'Courier New',monospace\"><span style=\"font-weight: bold\"> Non-trainable params: </span><span style=\"color: #00af00; text-decoration-color: #00af00\">0</span> (0.00 B)\n",
       "</pre>\n"
      ],
      "text/plain": [
       "\u001b[1m Non-trainable params: \u001b[0m\u001b[38;5;34m0\u001b[0m (0.00 B)\n"
      ]
     },
     "metadata": {},
     "output_type": "display_data"
    },
    {
     "data": {
      "text/html": [
       "<pre style=\"white-space:pre;overflow-x:auto;line-height:normal;font-family:Menlo,'DejaVu Sans Mono',consolas,'Courier New',monospace\"><span style=\"font-weight: bold\"> Optimizer params: </span><span style=\"color: #00af00; text-decoration-color: #00af00\">2</span> (12.00 B)\n",
       "</pre>\n"
      ],
      "text/plain": [
       "\u001b[1m Optimizer params: \u001b[0m\u001b[38;5;34m2\u001b[0m (12.00 B)\n"
      ]
     },
     "metadata": {},
     "output_type": "display_data"
    }
   ],
   "source": [
    "import tensorflow as tf\n",
    "from tensorflow import keras\n",
    "from tensorflow.keras import layers\n",
    "\n",
    "# --- Memuat Model ---\n",
    "logger.info(f\"Mencoba memuat model dari: {SAVED_MODEL_PATH}\")\n",
    "loaded_model = None # Inisialisasi sebagai None\n",
    "try:\n",
    "    if SAVED_MODEL_PATH.exists(): # Pastikan file model ada\n",
    "        loaded_model = keras.models.load_model(SAVED_MODEL_PATH)\n",
    "        logger.info(\"Model berhasil dimuat.\")\n",
    "        loaded_model.summary() # Tampilkan ringkasan model untuk verifikasi\n",
    "    else:\n",
    "        logger.error(f\"File model tidak ditemukan di: {SAVED_MODEL_PATH}\")\n",
    "except Exception as e:\n",
    "    logger.error(f\"Gagal memuat model dari {SAVED_MODEL_PATH}: {e}\", exc_info=True)\n"
   ]
  },
  {
   "cell_type": "markdown",
   "id": "774f87ff",
   "metadata": {},
   "source": [
    "# Definisi Fungsi Prediksi Inti\n",
    "Sel ini mengenkapsulasi seluruh logika prediksi ke dalam satu fungsi yang bersih dan dapat digunakan kembali\n"
   ]
  },
  {
   "cell_type": "code",
   "execution_count": null,
   "id": "a5c6e69b",
   "metadata": {},
   "outputs": [],
   "source": [
    "# Fungsi untuk Inferensi URL Tunggal\n",
    "\n",
    "def predict_url_type(url_string: str, model: keras.Model,\n",
    "                     # 'extract_features' akan digunakan langsung dari impor global\n",
    "                     preprocessor_obj: Optional[Any] = None,\n",
    "                     threshold: float = 0.5) -> Tuple[Optional[str], Optional[float]]:\n",
    "    \"\"\"\n",
    "    Menerima URL, mengekstrak fitur, melakukan pra-pemrosesan (jika ada), membuat prediksi,\n",
    "    dan mengembalikan tipe prediksi beserta probabilitasnya.\n",
    "\n",
    "    Args:\n",
    "        url_string (str): URL yang akan diprediksi.\n",
    "        model (keras.Model): Model Keras yang sudah dilatih dan dimuat.\n",
    "        preprocessor_obj (Optional[Any]): Objek preprocessor (misal, scaler) yang sudah di-fit.\n",
    "                                       Jika None, tidak ada pra-pemrosesan scaler yang diterapkan.\n",
    "        threshold (float): Ambang batas untuk klasifikasi jika output model adalah sigmoid.\n",
    "\n",
    "    Returns:\n",
    "        Tuple[Optional[str], Optional[float]]: (tipe_prediksi, probabilitas_phishing)\n",
    "                                                atau (None, None) jika error.\n",
    "    \"\"\"\n",
    "    if not url_string:\n",
    "        logger.warning(\"Input URL kosong.\")\n",
    "        return None, None\n",
    "\n",
    "    logger.info(f\"Memproses URL: {url_string}\")\n",
    "\n",
    "    # 1. Ekstraksi Fitur menggunakan fungsi yang sudah diimpor dari feature_extractor.py\n",
    "    try:\n",
    "        list_of_features = extract_features(url_string) # Memanggil fungsi yang diimpor dari Sel 1\n",
    "        if list_of_features is None:\n",
    "            logger.error(f\"Ekstraksi fitur mengembalikan None untuk URL: {url_string}\")\n",
    "            return None, None\n",
    "        \n",
    "        # Konversi ke NumPy array float32\n",
    "        features_1d = np.array(list_of_features, dtype=np.float32)\n",
    "        logger.debug(f\"Fitur (1D) diekstrak: {features_1d.shape} -> {features_1d[:5]}...\")\n",
    "\n",
    "    except Exception as e:\n",
    "        logger.error(f\"Error saat ekstraksi fitur untuk URL '{url_string}': {e}\", exc_info=True)\n",
    "        return None, None\n",
    "    \n",
    "    # Validasi jumlah fitur terhadap input model (\n",
    "    if model.input_shape[1] is not None and features_1d.shape[0] != model.input_shape[1]:\n",
    "        logger.error(f\"Jumlah fitur yang diekstrak ({features_1d.shape[0]}) tidak sesuai dengan input yang diharapkan model ({model.input_shape[1]}).\")\n",
    "        return None, None\n",
    "\n",
    "    # 2. Pra-pemrosesan Fitur (jika ada preprocessor)\n",
    "    # Fitur perlu diubah menjadi 2D array (1 sampel, N fitur)\n",
    "    if features_1d.ndim == 1:\n",
    "        features_2d_for_model = features_1d.reshape(1, -1)\n",
    "    else: \n",
    "        logger.warning(f\"Fitur yang diekstrak sudah {features_1d.ndim}D. Diharapkan 1D sebelum reshape.\")\n",
    "        features_2d_for_model = features_1d # Asumsikan sudah (1, N_fitur) jika bukan 1D\n",
    "\n",
    "    if preprocessor_obj:\n",
    "        try:\n",
    "            logger.debug(f\"Menerapkan preprocessor pada fitur shape: {features_2d_for_model.shape}\")\n",
    "            features_processed = preprocessor_obj.transform(features_2d_for_model) # transform() biasanya mengharapkan 2D\n",
    "            logger.debug(\"Preprocessor berhasil diterapkan.\")\n",
    "        except Exception as e:\n",
    "            logger.error(f\"Error saat menerapkan preprocessor: {e}\", exc_info=True)\n",
    "            return None, None\n",
    "    else:\n",
    "        features_processed = features_2d_for_model \n",
    "\n",
    "    logger.debug(f\"Fitur setelah pra-pemrosesan (siap untuk model): {features_processed.shape} -> {features_processed[0, :5]}...\")\n",
    "\n",
    "    # 3. Membuat Prediksi\n",
    "    try:\n",
    "        prediction_proba = model.predict(features_processed) # Input ke model harus 2D\n",
    "        logger.debug(f\"Probabilitas mentah dari model: {prediction_proba}\")\n",
    "\n",
    "        # Interpretasi output model berdasarkan arsitektur output layer\n",
    "        num_output_neurons = model.layers[-1].units\n",
    "        activation_output = model.layers[-1].activation.__name__ # Mendapatkan nama aktivasi\n",
    "\n",
    "        if num_output_neurons == 1 and activation_output == 'sigmoid':\n",
    "            prob_phishing = prediction_proba[0, 0]\n",
    "            predicted_label_int = 1 if prob_phishing > threshold else 0\n",
    "        elif num_output_neurons > 1 and activation_output == 'softmax': \n",
    "            predicted_label_int = np.argmax(prediction_proba, axis=1)[0]\n",
    "            prob_phishing = prediction_proba[0, 1] \n",
    "        else:\n",
    "            logger.error(f\"Struktur output layer model tidak dikenali (neurons: {num_output_neurons}, activation: {activation_output}). Tidak bisa interpretasi prediksi.\")\n",
    "            return None, None\n",
    "        \n",
    "        # TODO: \n",
    "        label_mapping = {0: 'Aman', 1: 'Phishing'} \n",
    "        predicted_type = label_mapping.get(predicted_label_int, f\"Label Int Tidak Diketahui: {predicted_label_int}\")\n",
    "        \n",
    "        logger.info(f\"Prediksi untuk '{url_string}': Tipe='{predicted_type}', Prob_Phishing={prob_phishing:.4f} (Threshold: {threshold if num_output_neurons == 1 else 'argmax'})\")\n",
    "        return predicted_type, prob_phishing\n",
    "\n",
    "    except Exception as e:\n",
    "        logger.error(f\"Error saat membuat prediksi untuk URL '{url_string}': {e}\", exc_info=True)\n",
    "        return None, None"
   ]
  },
  {
   "cell_type": "code",
   "execution_count": null,
   "id": "128ed3f7",
   "metadata": {},
   "outputs": [
    {
     "name": "stdout",
     "output_type": "stream",
     "text": [
      "\n",
      "--- Mode Inferensi URL Tunggal ---\n",
      "Ketik 'exit' atau 'quit' untuk keluar.\n",
      "2025-06-12 19:49:27 - __main__ - INFO - Memproses URL: https://www.vouchers.news/alfamart?gp=1&js=1&uuid=1749732292.0025708484&other_args=eyJ1cmkiOiAiL2FsZmFtYXJ0IiwgImFyZ3MiOiAiIiwgInJlZmVyZXIiOiAiIiwgImFjY2VwdCI6ICJ0ZXh0L2h0bWwsYXBwbGljYXRpb24veGh0bWwreG1sLGFwcGxpY2F0aW9uL3htbDtxPTAuOSxpbWFnZS9hdmlmLGltYWdlL3dlYnAsaW1hZ2UvYXBuZywqLyo7cT0wLjgsYXBwbGljYXRpb24vc2lnbmVkLWV4Y2hhbmdlO3Y9YjM7cT0wLjcifQ==\n",
      "2025-06-12 19:49:27 - FeatureExtractor - INFO - Memulai ekstraksi fitur untuk URL: https://www.vouchers.news/alfamart?gp=1&js=1&uuid=1749732292.0025708484&other_args=eyJ1cmkiOiAiL2FsZmFtYXJ0IiwgImFyZ3MiOiAiIiwgInJlZmVyZXIiOiAiIiwgImFjY2VwdCI6ICJ0ZXh0L2h0bWwsYXBwbGljYXRpb24veGh0bWwreG1sLGFwcGxpY2F0aW9uL3htbDtxPTAuOSxpbWFnZS9hdmlmLGltYWdlL3dlYnAsaW1hZ2UvYXBuZywqLyo7cT0wLjgsYXBwbGljYXRpb24vc2lnbmVkLWV4Y2hhbmdlO3Y9YjM7cT0wLjcifQ==\n",
      "2025-06-12 19:49:27 - FeatureExtractor - INFO - Mengecek apakah https://www.vouchers.news/alfamart?gp=1&js=1&uuid=1749732292.0025708484&other_args=eyJ1cmkiOiAiL2FsZmFtYXJ0IiwgImFyZ3MiOiAiIiwgInJlZmVyZXIiOiAiIiwgImFjY2VwdCI6ICJ0ZXh0L2h0bWwsYXBwbGljYXRpb24veGh0bWwreG1sLGFwcGxpY2F0aW9uL3htbDtxPTAuOSxpbWFnZS9hdmlmLGltYWdlL3dlYnAsaW1hZ2UvYXBuZywqLyo7cT0wLjgsYXBwbGljYXRpb24vc2lnbmVkLWV4Y2hhbmdlO3Y9YjM7cT0wLjcifQ== adalah URL shortener.\n",
      "2025-06-12 19:49:39 - FeatureExtractor - ERROR - Timeout saat mengambil URL 'https://www.vouchers.news/alfamart?gp=1&js=1&uuid=1749732292.0025708484&other_args=eyJ1cmkiOiAiL2FsZmFtYXJ0IiwgImFyZ3MiOiAiIiwgInJlZmVyZXIiOiAiIiwgImFjY2VwdCI6ICJ0ZXh0L2h0bWwsYXBwbGljYXRpb24veGh0bWwreG1sLGFwcGxpY2F0aW9uL3htbDtxPTAuOSxpbWFnZS9hdmlmLGltYWdlL3dlYnAsaW1hZ2UvYXBuZywqLyo7cT0wLjgsYXBwbGljYXRpb24vc2lnbmVkLWV4Y2hhbmdlO3Y9YjM7cT0wLjcifQ==': HTTPSConnectionPool(host='www.vouchers.news', port=443): Read timed out. (read timeout=10)\n",
      "2025-06-12 19:49:40 - FeatureExtractor - INFO - Selesai ekstraksi fitur untuk URL: https://www.vouchers.news/alfamart?gp=1&js=1&uuid=1749732292.0025708484&other_args=eyJ1cmkiOiAiL2FsZmFtYXJ0IiwgImFyZ3MiOiAiIiwgInJlZmVyZXIiOiAiIiwgImFjY2VwdCI6ICJ0ZXh0L2h0bWwsYXBwbGljYXRpb24veGh0bWwreG1sLGFwcGxpY2F0aW9uL3htbDtxPTAuOSxpbWFnZS9hdmlmLGltYWdlL3dlYnAsaW1hZ2UvYXBuZywqLyo7cT0wLjgsYXBwbGljYXRpb24vc2lnbmVkLWV4Y2hhbmdlO3Y9YjM7cT0wLjcifQ==. Total fitur: 21\n",
      "\u001b[1m1/1\u001b[0m \u001b[32m━━━━━━━━━━━━━━━━━━━━\u001b[0m\u001b[37m\u001b[0m \u001b[1m0s\u001b[0m 51ms/step\n",
      "2025-06-12 19:49:40 - __main__ - INFO - Prediksi untuk 'https://www.vouchers.news/alfamart?gp=1&js=1&uuid=1749732292.0025708484&other_args=eyJ1cmkiOiAiL2FsZmFtYXJ0IiwgImFyZ3MiOiAiIiwgInJlZmVyZXIiOiAiIiwgImFjY2VwdCI6ICJ0ZXh0L2h0bWwsYXBwbGljYXRpb24veGh0bWwreG1sLGFwcGxpY2F0aW9uL3htbDtxPTAuOSxpbWFnZS9hdmlmLGltYWdlL3dlYnAsaW1hZ2UvYXBuZywqLyo7cT0wLjgsYXBwbGljYXRpb24vc2lnbmVkLWV4Y2hhbmdlO3Y9YjM7cT0wLjcifQ==': Tipe='Phishing', Prob_Phishing=0.9618 (Threshold: 0.5)\n",
      "--> Hasil Prediksi untuk 'https://www.vouchers.news/alfamart?gp=1&js=1&uuid=1749732292.0025708484&other_args=eyJ1cmkiOiAiL2FsZmFtYXJ0IiwgImFyZ3MiOiAiIiwgInJlZmVyZXIiOiAiIiwgImFjY2VwdCI6ICJ0ZXh0L2h0bWwsYXBwbGljYXRpb24veGh0bWwreG1sLGFwcGxpY2F0aW9uL3htbDtxPTAuOSxpbWFnZS9hdmlmLGltYWdlL3dlYnAsaW1hZ2UvYXBuZywqLyo7cT0wLjgsYXBwbGljYXRpb24vc2lnbmVkLWV4Y2hhbmdlO3Y9YjM7cT0wLjcifQ==':\n",
      "    Tipe Terdeteksi: Phishing\n",
      "    Probabilitas (Phishing): 0.9618\n",
      "URL tidak boleh kosong. Silakan coba lagi.\n",
      "2025-06-12 19:49:44 - __main__ - INFO - Memproses URL: https://awarefortification.top/b6beVgR1R3FpQndhVwwzbAN9Ul5eR1Z_DT9KYFBCOD8dLSABRBYRVCoSBg4BMBUK?1724125847180\n",
      "2025-06-12 19:49:44 - FeatureExtractor - INFO - Memulai ekstraksi fitur untuk URL: https://awarefortification.top/b6beVgR1R3FpQndhVwwzbAN9Ul5eR1Z_DT9KYFBCOD8dLSABRBYRVCoSBg4BMBUK?1724125847180\n",
      "2025-06-12 19:49:44 - FeatureExtractor - INFO - Mengecek apakah https://awarefortification.top/b6beVgR1R3FpQndhVwwzbAN9Ul5eR1Z_DT9KYFBCOD8dLSABRBYRVCoSBg4BMBUK?1724125847180 adalah URL shortener.\n",
      "2025-06-12 19:49:44 - FeatureExtractor - ERROR - Connection error saat mengambil URL 'https://awarefortification.top/b6beVgR1R3FpQndhVwwzbAN9Ul5eR1Z_DT9KYFBCOD8dLSABRBYRVCoSBg4BMBUK?1724125847180': HTTPSConnectionPool(host='awarefortification.top', port=443): Max retries exceeded with url: /b6beVgR1R3FpQndhVwwzbAN9Ul5eR1Z_DT9KYFBCOD8dLSABRBYRVCoSBg4BMBUK?1724125847180 (Caused by NameResolutionError(\"<urllib3.connection.HTTPSConnection object at 0x0000021908CD10A0>: Failed to resolve 'awarefortification.top' ([Errno 11001] getaddrinfo failed)\"))\n",
      "2025-06-12 19:49:44 - FeatureExtractor - WARNING - DNS resolution failed for domain awarefortification.top in blacklist check.\n",
      "2025-06-12 19:49:44 - FeatureExtractor - INFO - Selesai ekstraksi fitur untuk URL: https://awarefortification.top/b6beVgR1R3FpQndhVwwzbAN9Ul5eR1Z_DT9KYFBCOD8dLSABRBYRVCoSBg4BMBUK?1724125847180. Total fitur: 21\n",
      "\u001b[1m1/1\u001b[0m \u001b[32m━━━━━━━━━━━━━━━━━━━━\u001b[0m\u001b[37m\u001b[0m \u001b[1m0s\u001b[0m 43ms/step\n",
      "2025-06-12 19:49:44 - __main__ - INFO - Prediksi untuk 'https://awarefortification.top/b6beVgR1R3FpQndhVwwzbAN9Ul5eR1Z_DT9KYFBCOD8dLSABRBYRVCoSBg4BMBUK?1724125847180': Tipe='Phishing', Prob_Phishing=0.9685 (Threshold: 0.5)\n",
      "--> Hasil Prediksi untuk 'https://awarefortification.top/b6beVgR1R3FpQndhVwwzbAN9Ul5eR1Z_DT9KYFBCOD8dLSABRBYRVCoSBg4BMBUK?1724125847180':\n",
      "    Tipe Terdeteksi: Phishing\n",
      "    Probabilitas (Phishing): 0.9685\n",
      "2025-06-12 19:49:56 - __main__ - INFO - Memproses URL: https://alfamart.co.id/news-detail/Hati-hati-Situs-Kuis-Hoax-Atas-Nama-Alfamart\n",
      "2025-06-12 19:49:56 - FeatureExtractor - INFO - Memulai ekstraksi fitur untuk URL: https://alfamart.co.id/news-detail/Hati-hati-Situs-Kuis-Hoax-Atas-Nama-Alfamart\n",
      "2025-06-12 19:49:56 - FeatureExtractor - INFO - Mengecek apakah https://alfamart.co.id/news-detail/Hati-hati-Situs-Kuis-Hoax-Atas-Nama-Alfamart adalah URL shortener.\n",
      "2025-06-12 19:49:57 - FeatureExtractor - INFO - Selesai ekstraksi fitur untuk URL: https://alfamart.co.id/news-detail/Hati-hati-Situs-Kuis-Hoax-Atas-Nama-Alfamart. Total fitur: 21\n",
      "\u001b[1m1/1\u001b[0m \u001b[32m━━━━━━━━━━━━━━━━━━━━\u001b[0m\u001b[37m\u001b[0m \u001b[1m0s\u001b[0m 21ms/step\n",
      "2025-06-12 19:49:57 - __main__ - INFO - Prediksi untuk 'https://alfamart.co.id/news-detail/Hati-hati-Situs-Kuis-Hoax-Atas-Nama-Alfamart': Tipe='Aman', Prob_Phishing=0.0052 (Threshold: 0.5)\n",
      "--> Hasil Prediksi untuk 'https://alfamart.co.id/news-detail/Hati-hati-Situs-Kuis-Hoax-Atas-Nama-Alfamart':\n",
      "    Tipe Terdeteksi: Aman\n",
      "    Probabilitas (Phishing): 0.0052\n",
      "URL tidak boleh kosong. Silakan coba lagi.\n",
      "2025-06-12 19:50:00 - __main__ - INFO - Keluar dari mode inferensi.\n"
     ]
    }
   ],
   "source": [
    "# Loop Interaktif untuk Input Pengguna\n",
    "\n",
    "if 'loaded_model' in locals() and loaded_model: # Pastikan model sudah dimuat\n",
    "    print(\"\\n--- Mode Inferensi URL Tunggal ---\")\n",
    "    print(\"Ketik 'exit' atau 'quit' untuk keluar.\")\n",
    "    while True:\n",
    "        user_url = input(\"\\nMasukkan URL yang ingin Anda periksa: \").strip()\n",
    "        if user_url.lower() in ['exit', 'quit']:\n",
    "            logger.info(\"Keluar dari mode inferensi.\")\n",
    "            break\n",
    "        if not user_url:\n",
    "            print(\"URL tidak boleh kosong. Silakan coba lagi.\")\n",
    "            continue\n",
    "        \n",
    "        # TODO: \n",
    "        prediction_threshold = 0.5 \n",
    "\n",
    "        predicted_type, probability = predict_url_type(\n",
    "            user_url,\n",
    "            loaded_model, \n",
    "            threshold=prediction_threshold \n",
    "        )\n",
    "\n",
    "        if predicted_type is not None:\n",
    "            print(f\"--> Hasil Prediksi untuk '{user_url}':\")\n",
    "            print(f\"    Tipe Terdeteksi: {predicted_type}\")\n",
    "            if probability is not None:\n",
    "                print(f\"    Probabilitas (Phishing): {probability:.4f}\")\n",
    "        else:\n",
    "            print(f\"--> Tidak dapat membuat prediksi untuk '{user_url}'. Periksa log untuk detail.\")\n",
    "else:\n",
    "    print(\"Model belum dimuat (variabel 'loaded_model' tidak ditemukan atau None). Jalankan Sel 2 terlebih dahulu.\")\n",
    "    logger.error(\"Inferensi tidak bisa dijalankan karena model belum dimuat.\")"
   ]
  }
 ],
 "metadata": {
  "kernelspec": {
   "display_name": "Python 3",
   "language": "python",
   "name": "python3"
  },
  "language_info": {
   "codemirror_mode": {
    "name": "ipython",
    "version": 3
   },
   "file_extension": ".py",
   "mimetype": "text/x-python",
   "name": "python",
   "nbconvert_exporter": "python",
   "pygments_lexer": "ipython3",
   "version": "3.12.4"
  }
 },
 "nbformat": 4,
 "nbformat_minor": 5
}
